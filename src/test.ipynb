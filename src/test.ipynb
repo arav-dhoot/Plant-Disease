{
 "cells": [
  {
   "cell_type": "code",
   "execution_count": 38,
   "metadata": {},
   "outputs": [],
   "source": [
    "from PIL import Image\n",
    "from albumentations.augmentations.transforms import Downscale\n",
    "import torch\n",
    "import numpy as np"
   ]
  },
  {
   "cell_type": "code",
   "execution_count": 40,
   "metadata": {},
   "outputs": [
    {
     "name": "stderr",
     "output_type": "stream",
     "text": [
      "/Users/aravdhoot/opt/anaconda3/envs/ml_env/lib/python3.10/site-packages/albumentations/augmentations/transforms.py:1554: UserWarning: Using default interpolation INTER_NEAREST, which is sub-optimal.Please specify interpolation mode for downscale and upscale explicitly.For additional information see this PR https://github.com/albumentations-team/albumentations/pull/584\n",
      "  warnings.warn(\n"
     ]
    }
   ],
   "source": [
    "downscale_transform = Downscale(p=1.0, scale_min=0.2, scale_max=0.5)"
   ]
  },
  {
   "cell_type": "code",
   "execution_count": 18,
   "metadata": {},
   "outputs": [],
   "source": [
    "image = Image.open('/Users/aravdhoot/Plant-Disease/data/New Plants Diseases Dataset/New Plant Diseases Dataset(Augmented)/New Plant Diseases Dataset(Augmented)/train/Apple___Apple_scab/adfdba4a-a725-4c5b-8b1c-96e8b20baa7b___FREC_Scab 3265_90deg.JPG')\n",
    "image.show()\n",
    "image=np.array(image)\n"
   ]
  },
  {
   "cell_type": "code",
   "execution_count": 42,
   "metadata": {},
   "outputs": [
    {
     "data": {
      "text/plain": [
       "tensor([[[  8,   0,  12],\n",
       "         [  8,   0,  12],\n",
       "         [  8,   0,  12],\n",
       "         ...,\n",
       "         [  8,   0,  11],\n",
       "         [  8,   0,  11],\n",
       "         [  8,   0,  11]],\n",
       "\n",
       "        [[  8,   0,  12],\n",
       "         [  8,   0,  12],\n",
       "         [  8,   0,  12],\n",
       "         ...,\n",
       "         [  8,   0,  11],\n",
       "         [  8,   0,  11],\n",
       "         [  8,   0,  11]],\n",
       "\n",
       "        [[  8,   0,  12],\n",
       "         [  8,   0,  12],\n",
       "         [  8,   0,  12],\n",
       "         ...,\n",
       "         [  8,   0,  11],\n",
       "         [  8,   0,  11],\n",
       "         [  8,   0,  11]],\n",
       "\n",
       "        ...,\n",
       "\n",
       "        [[147, 133, 156],\n",
       "         [147, 133, 156],\n",
       "         [147, 133, 156],\n",
       "         ...,\n",
       "         [136, 121, 140],\n",
       "         [158, 143, 162],\n",
       "         [158, 143, 162]],\n",
       "\n",
       "        [[ 88,  74,  97],\n",
       "         [ 88,  74,  97],\n",
       "         [ 88,  74,  97],\n",
       "         ...,\n",
       "         [153, 138, 157],\n",
       "         [157, 142, 161],\n",
       "         [157, 142, 161]],\n",
       "\n",
       "        [[ 88,  74,  97],\n",
       "         [ 88,  74,  97],\n",
       "         [ 88,  74,  97],\n",
       "         ...,\n",
       "         [153, 138, 157],\n",
       "         [157, 142, 161],\n",
       "         [157, 142, 161]]], dtype=torch.uint8)"
      ]
     },
     "execution_count": 42,
     "metadata": {},
     "output_type": "execute_result"
    }
   ],
   "source": [
    "np_image = downscale_transform(image = np.array(image))\n",
    "torch_image = torch.from_numpy(np_image['image'])\n",
    "torch_image\n"
   ]
  }
 ],
 "metadata": {
  "kernelspec": {
   "display_name": "ml_env",
   "language": "python",
   "name": "python3"
  },
  "language_info": {
   "codemirror_mode": {
    "name": "ipython",
    "version": 3
   },
   "file_extension": ".py",
   "mimetype": "text/x-python",
   "name": "python",
   "nbconvert_exporter": "python",
   "pygments_lexer": "ipython3",
   "version": "3.10.6"
  },
  "orig_nbformat": 4
 },
 "nbformat": 4,
 "nbformat_minor": 2
}
